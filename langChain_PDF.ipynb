{
 "cells": [
  {
   "cell_type": "code",
   "execution_count": null,
   "id": "14195d52",
   "metadata": {},
   "outputs": [],
   "source": [
    "from langchain_community.document_loaders import PyPDFLoader\n",
    "from langchain_ollama import ChatOllama\n",
    "from langchain.prompts import PromptTemplate\n",
    "from langchain.chains.combine_documents.stuff import create_stuff_documents_chain"
   ]
  },
  {
   "cell_type": "code",
   "execution_count": null,
   "id": "bea9923e",
   "metadata": {},
   "outputs": [],
   "source": [
    "loader = PyPDFLoader(\"../données/Covid/EpidemioMain.pdf\")\n",
    "docs = loader.load()"
   ]
  },
  {
   "cell_type": "code",
   "execution_count": null,
   "id": "19219ba5",
   "metadata": {},
   "outputs": [],
   "source": [
    "llm = ChatOllama(model='llama4:latest')"
   ]
  },
  {
   "cell_type": "code",
   "execution_count": null,
   "id": "b6bc2953",
   "metadata": {},
   "outputs": [],
   "source": [
    "prompt = PromptTemplate.from_template(\n",
    "    \"Tu dois répondre à la question en te basant sur les documents suivants :\\n\\n{context}\\n\\nQuestion: {question}\"\n",
    ")"
   ]
  },
  {
   "cell_type": "code",
   "execution_count": null,
   "id": "f8e93042",
   "metadata": {},
   "outputs": [],
   "source": [
    "chain = create_stuff_documents_chain(llm=llm, prompt=prompt)"
   ]
  },
  {
   "cell_type": "code",
   "execution_count": null,
   "id": "c0bad233",
   "metadata": {},
   "outputs": [],
   "source": [
    "response =  chain.invoke({\n",
    "    \"context\": docs,\n",
    "    \"question\": \"De quoi parle ce document ?\"\n",
    "})"
   ]
  },
  {
   "cell_type": "code",
   "execution_count": null,
   "id": "f8b1ddda",
   "metadata": {},
   "outputs": [],
   "source": [
    "print(response)"
   ]
  }
 ],
 "metadata": {
  "language_info": {
   "name": "python"
  }
 },
 "nbformat": 4,
 "nbformat_minor": 5
}
